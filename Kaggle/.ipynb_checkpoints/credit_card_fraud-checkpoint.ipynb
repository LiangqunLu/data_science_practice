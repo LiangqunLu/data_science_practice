{
 "cells": [
  {
   "cell_type": "markdown",
   "id": "a0d3b7b3",
   "metadata": {},
   "source": [
    "# Credit Card Fraud\n",
    "\n",
    "## Problem Statement\n",
    "[Describe the challenge and objectives]\n",
    "\n",
    "## Data Description\n",
    "[Describe the data you'll be working with]"
   ]
  },
  {
   "cell_type": "code",
   "execution_count": 3,
   "id": "a7a5a49a",
   "metadata": {},
   "outputs": [
    {
     "ename": "ModuleNotFoundError",
     "evalue": "No module named 'xgboost'",
     "output_type": "error",
     "traceback": [
      "\u001b[0;31m---------------------------------------------------------------------------\u001b[0m",
      "\u001b[0;31mModuleNotFoundError\u001b[0m                       Traceback (most recent call last)",
      "Cell \u001b[0;32mIn[3], line 10\u001b[0m\n\u001b[1;32m      8\u001b[0m \u001b[38;5;28;01mfrom\u001b[39;00m \u001b[38;5;21;01msklearn\u001b[39;00m\u001b[38;5;21;01m.\u001b[39;00m\u001b[38;5;21;01mmetrics\u001b[39;00m \u001b[38;5;28;01mimport\u001b[39;00m classification_report, confusion_matrix, roc_auc_score, roc_curve\n\u001b[1;32m      9\u001b[0m \u001b[38;5;28;01mfrom\u001b[39;00m \u001b[38;5;21;01mimblearn\u001b[39;00m\u001b[38;5;21;01m.\u001b[39;00m\u001b[38;5;21;01mover_sampling\u001b[39;00m \u001b[38;5;28;01mimport\u001b[39;00m SMOTE\n\u001b[0;32m---> 10\u001b[0m \u001b[38;5;28;01mimport\u001b[39;00m \u001b[38;5;21;01mxgboost\u001b[39;00m \u001b[38;5;28;01mas\u001b[39;00m \u001b[38;5;21;01mxgb\u001b[39;00m\n\u001b[1;32m     13\u001b[0m \u001b[38;5;66;03m# Set display options\u001b[39;00m\n\u001b[1;32m     14\u001b[0m pd\u001b[38;5;241m.\u001b[39mset_option(\u001b[38;5;124m'\u001b[39m\u001b[38;5;124mdisplay.max_columns\u001b[39m\u001b[38;5;124m'\u001b[39m, \u001b[38;5;28;01mNone\u001b[39;00m)\n",
      "\u001b[0;31mModuleNotFoundError\u001b[0m: No module named 'xgboost'"
     ]
    }
   ],
   "source": [
    "# Import necessary libraries\n",
    "import pandas as pd\n",
    "import numpy as np\n",
    "import matplotlib.pyplot as plt\n",
    "import seaborn as sns\n",
    "from sklearn.model_selection import train_test_split, StratifiedKFold, GridSearchCV\n",
    "from sklearn.preprocessing import StandardScaler\n",
    "from sklearn.metrics import classification_report, confusion_matrix, roc_auc_score, roc_curve\n",
    "from imblearn.over_sampling import SMOTE\n",
    "import xgboost as xgb\n",
    "\n",
    "\n",
    "# Set display options\n",
    "pd.set_option('display.max_columns', None)\n",
    "%matplotlib inline"
   ]
  },
  {
   "cell_type": "markdown",
   "id": "7ecdbb0c",
   "metadata": {},
   "source": [
    "## Data Loading and Exploration"
   ]
  },
  {
   "cell_type": "code",
   "execution_count": null,
   "id": "3ab08b58",
   "metadata": {},
   "outputs": [],
   "source": [
    "# Load Dataset\n",
    "data = pd.read_csv('/Users/liangqunlu/Downloads/creditcard 2.csv')"
   ]
  },
  {
   "cell_type": "code",
   "execution_count": null,
   "id": "26d836c7",
   "metadata": {},
   "outputs": [],
   "source": [
    "# Exploratory Data Analysis (EDA)\n",
    "print(data.info())\n",
    "print(data.describe())\n",
    "\n",
    "print(data.isna().sum())\n",
    "\n",
    "data.head()"
   ]
  },
  {
   "cell_type": "markdown",
   "id": "b9c50733",
   "metadata": {},
   "source": [
    "# EDA "
   ]
  },
  {
   "cell_type": "code",
   "execution_count": null,
   "id": "821c4487",
   "metadata": {},
   "outputs": [],
   "source": [
    "# Check for class imbalance\n",
    "fraud_count = data['Class'].value_counts()\n",
    "fraud_count.plot(kind='bar', title='Class Distribution', figsize=(10, 5))\n",
    "plt.xlabel('Class')\n",
    "plt.ylabel('Count')\n",
    "plt.show()\n",
    "\n",
    "# Plot correlation heatmap to understand feature relationships\n",
    "plt.figure(figsize=(15, 10))\n",
    "sns.heatmap(data.corr(), cmap='coolwarm', annot=False)\n",
    "plt.title('Correlation Heatmap')\n",
    "plt.show()\n",
    "\n",
    "# Plot distribution of 'Amount'\n",
    "plt.figure(figsize=(10, 5))\n",
    "sns.histplot(data['Amount'], bins=50, kde=True)\n",
    "plt.title('Transaction Amount Distribution')\n",
    "plt.xlabel('Amount')\n",
    "plt.ylabel('Frequency')\n",
    "plt.show()\n"
   ]
  },
  {
   "cell_type": "markdown",
   "id": "d2d7e4b9",
   "metadata": {},
   "source": [
    "## Feature Engineering"
   ]
  },
  {
   "cell_type": "code",
   "execution_count": null,
   "id": "e24fb36c",
   "metadata": {},
   "outputs": [],
   "source": [
    "# Feature engineering code here\n",
    "\n",
    "# Data Preprocessing\n",
    "features = data.drop(columns=['Class'])\n",
    "labels = data['Class']"
   ]
  },
  {
   "cell_type": "markdown",
   "id": "d23e841e",
   "metadata": {},
   "source": [
    "## Model Building"
   ]
  },
  {
   "cell_type": "code",
   "execution_count": null,
   "id": "37a44dd4",
   "metadata": {},
   "outputs": [],
   "source": [
    "# Model building code here\n",
    "\n",
    "# Standardize 'Amount' and 'Time' features\n",
    "scaler = StandardScaler()\n",
    "features[['Amount', 'Time']] = scaler.fit_transform(features[['Amount', 'Time']])\n",
    "\n",
    "# Split Data into Training and Validation Sets\n",
    "X_train, X_valid, y_train, y_valid = train_test_split(features, labels, test_size=0.2, random_state=42, stratify=labels)\n",
    "\n",
    "# Handle Imbalance Using SMOTE\n",
    "smote = SMOTE(random_state=42)\n",
    "X_train_resampled, y_train_resampled = smote.fit_resample(X_train, y_train)\n",
    "\n",
    "# Define XGBoost Classifier Model\n",
    "xgb_model = xgb.XGBClassifier(objective='binary:logistic', n_estimators=100, learning_rate=0.1, max_depth=6, random_state=42)\n"
   ]
  },
  {
   "cell_type": "code",
   "execution_count": null,
   "id": "6ca7026c",
   "metadata": {},
   "outputs": [],
   "source": []
  },
  {
   "cell_type": "code",
   "execution_count": null,
   "id": "82ee2a80",
   "metadata": {},
   "outputs": [],
   "source": [
    "# Train the Model\n",
    "xgb_model.fit(X_train_resampled, y_train_resampled)\n",
    "\n",
    "# Predict on Validation Set\n",
    "y_pred = xgb_model.predict(X_valid)\n",
    "\n",
    "# Evaluate Model Performance\n",
    "print(\"Classification Report:\\n\", classification_report(y_valid, y_pred))\n",
    "print(\"Confusion Matrix:\\n\", confusion_matrix(y_valid, y_pred))\n",
    "roc_auc = roc_auc_score(y_valid, y_pred)\n",
    "print(f'Validation ROC-AUC Score: {roc_auc:.2f}')\n",
    "\n",
    "# Plot ROC Curve\n",
    "fpr, tpr, _ = roc_curve(y_valid, xgb_model.predict_proba(X_valid)[:, 1])\n",
    "plt.figure(figsize=(10, 5))\n",
    "plt.plot(fpr, tpr, color='b', label=f'ROC Curve (AUC = {roc_auc:.2f})')\n",
    "plt.plot([0, 1], [0, 1], color='r', linestyle='--')\n",
    "plt.xlabel('False Positive Rate')\n",
    "plt.ylabel('True Positive Rate')\n",
    "plt.title('Receiver Operating Characteristic (ROC) Curve')\n",
    "plt.legend()\n",
    "plt.show()\n",
    "\n",
    "# Hyperparameter Tuning using Grid Search\n",
    "skf = StratifiedKFold(n_splits=5, shuffle=True, random_state=42)\n",
    "param_grid = {\n",
    "    'n_estimators': [100, 200],\n",
    "    'max_depth': [3, 6, 9],\n",
    "    'learning_rate': [0.01, 0.1, 0.2]\n",
    "}\n",
    "grid_search = GridSearchCV(estimator=xgb_model, param_grid=param_grid, scoring='roc_auc', cv=skf, verbose=2)\n",
    "grid_search.fit(X_train_resampled, y_train_resampled)\n",
    "\n",
    "# Best Parameters\n",
    "print(f'Best Parameters: {grid_search.best_params_}')\n",
    "\n",
    "# Train Final Model with Best Parameters\n",
    "final_model = grid_search.best_estimator_\n",
    "final_model.fit(X_train_resampled, y_train_resampled)\n",
    "\n",
    "# Predict on Validation Set with Final Model\n",
    "y_final_pred = final_model.predict(X_valid)\n",
    "\n",
    "# Evaluate Final Model Performance\n",
    "final_roc_auc = roc_auc_score(y_valid, y_final_pred)\n",
    "print(f'Final Validation ROC-AUC Score: {final_roc_auc:.2f}')\n",
    "\n",
    "# Final Classification Report\n",
    "print(\"Final Classification Report:\\n\", classification_report(y_valid, y_final_pred))\n"
   ]
  },
  {
   "cell_type": "markdown",
   "id": "3a2d2391",
   "metadata": {},
   "source": [
    "## Analysis"
   ]
  },
  {
   "cell_type": "code",
   "execution_count": null,
   "id": "ce86e86c",
   "metadata": {},
   "outputs": [],
   "source": [
    "# Your analysis code here"
   ]
  },
  {
   "cell_type": "markdown",
   "id": "c9aeab29",
   "metadata": {},
   "source": [
    "## Conclusions and Recommendations"
   ]
  },
  {
   "cell_type": "markdown",
   "id": "32939282",
   "metadata": {},
   "source": [
    "[Your conclusions and recommendations here]"
   ]
  }
 ],
 "metadata": {
  "kernelspec": {
   "display_name": "base",
   "language": "python",
   "name": "python3"
  },
  "language_info": {
   "codemirror_mode": {
    "name": "ipython",
    "version": 3
   },
   "file_extension": ".py",
   "mimetype": "text/x-python",
   "name": "python",
   "nbconvert_exporter": "python",
   "pygments_lexer": "ipython3",
   "version": "3.11.7"
  }
 },
 "nbformat": 4,
 "nbformat_minor": 5
}
