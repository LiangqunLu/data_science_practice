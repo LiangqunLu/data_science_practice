{
 "cells": [
  {
   "cell_type": "markdown",
   "id": "ebd1db06",
   "metadata": {},
   "source": [
    "# Engagement Test\n",
    "\n",
    "## Problem Statement\n",
    "[Describe the challenge and objectives]\n",
    "\n",
    "## Data Description\n",
    "[Describe the data you'll be working with]"
   ]
  },
  {
   "cell_type": "code",
   "execution_count": null,
   "id": "24c78917",
   "metadata": {},
   "outputs": [],
   "source": [
    "# Import necessary libraries\n",
    "import pandas as pd\n",
    "import numpy as np\n",
    "import matplotlib.pyplot as plt\n",
    "import seaborn as sns\n",
    "\n",
    "# Set display options\n",
    "pd.set_option('display.max_columns', None)\n",
    "%matplotlib inline"
   ]
  },
  {
   "cell_type": "markdown",
   "id": "3efbd6d8",
   "metadata": {},
   "source": [
    "## Data Loading and Exploration"
   ]
  },
  {
   "cell_type": "code",
   "execution_count": null,
   "id": "a18c62ce",
   "metadata": {},
   "outputs": [],
   "source": [
    "# Load data\n",
    "# df = pd.read_csv('data_file.csv')"
   ]
  },
  {
   "cell_type": "markdown",
   "id": "8ffde1ad",
   "metadata": {},
   "source": [
    "## Analysis"
   ]
  },
  {
   "cell_type": "code",
   "execution_count": null,
   "id": "f2a2874a",
   "metadata": {},
   "outputs": [],
   "source": [
    "# Your analysis code here"
   ]
  },
  {
   "cell_type": "markdown",
   "id": "3148afa4",
   "metadata": {},
   "source": [
    "## Conclusions and Recommendations"
   ]
  },
  {
   "cell_type": "markdown",
   "id": "35ef7167",
   "metadata": {},
   "source": [
    "[Your conclusions and recommendations here]"
   ]
  }
 ],
 "metadata": {},
 "nbformat": 4,
 "nbformat_minor": 5
}
